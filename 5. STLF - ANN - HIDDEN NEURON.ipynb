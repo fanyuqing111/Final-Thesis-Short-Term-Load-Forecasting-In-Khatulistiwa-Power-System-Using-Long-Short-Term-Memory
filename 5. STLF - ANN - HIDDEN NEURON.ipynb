{
 "cells": [
  {
   "cell_type": "markdown",
   "metadata": {},
   "source": [
    "### Library"
   ]
  },
  {
   "cell_type": "code",
   "execution_count": 1,
   "metadata": {},
   "outputs": [
    {
     "name": "stderr",
     "output_type": "stream",
     "text": [
      "Using TensorFlow backend.\n"
     ]
    }
   ],
   "source": [
    "import pandas as pd\n",
    "import numpy as np\n",
    "from numpy import array\n",
    "\n",
    "import seaborn as sns\n",
    "import matplotlib.pyplot as plt\n",
    "\n",
    "from sklearn.preprocessing import MinMaxScaler\n",
    "from sklearn.metrics import mean_squared_error\n",
    "from mape import mean_absolute_percentage_error\n",
    "\n",
    "from IPython.display import clear_output\n",
    "from pandas import ExcelWriter\n",
    "\n",
    "import keras\n",
    "from keras.models import Sequential\n",
    "from keras.layers import Dense\n",
    "from keras.callbacks import EarlyStopping\n",
    "from keras.models import model_from_json\n",
    "from keras.layers import Dropout\n",
    "\n",
    "from data_reshape import univariate_reshape\n",
    "from Remove_Duplicate import Remove"
   ]
  },
  {
   "cell_type": "markdown",
   "metadata": {},
   "source": [
    "### Data Beban Historis"
   ]
  },
  {
   "cell_type": "code",
   "execution_count": 2,
   "metadata": {},
   "outputs": [],
   "source": [
    "path = r'power_dataset.xlsx'\n",
    "data = pd.read_excel (path)"
   ]
  },
  {
   "cell_type": "markdown",
   "metadata": {},
   "source": [
    "### Data Parameter yang akan diuji"
   ]
  },
  {
   "cell_type": "code",
   "execution_count": 3,
   "metadata": {
    "scrolled": true
   },
   "outputs": [
    {
     "data": {
      "text/html": [
       "<div>\n",
       "<style scoped>\n",
       "    .dataframe tbody tr th:only-of-type {\n",
       "        vertical-align: middle;\n",
       "    }\n",
       "\n",
       "    .dataframe tbody tr th {\n",
       "        vertical-align: top;\n",
       "    }\n",
       "\n",
       "    .dataframe thead th {\n",
       "        text-align: right;\n",
       "    }\n",
       "</style>\n",
       "<table border=\"1\" class=\"dataframe\">\n",
       "  <thead>\n",
       "    <tr style=\"text-align: right;\">\n",
       "      <th></th>\n",
       "      <th>Unnamed: 0</th>\n",
       "      <th>dataset</th>\n",
       "      <th>feature</th>\n",
       "      <th>hidden_neuron</th>\n",
       "      <th>hidden_layer</th>\n",
       "      <th>RMSE</th>\n",
       "      <th>MAPE</th>\n",
       "    </tr>\n",
       "  </thead>\n",
       "  <tbody>\n",
       "    <tr>\n",
       "      <th>0</th>\n",
       "      <td>0</td>\n",
       "      <td>1</td>\n",
       "      <td>672</td>\n",
       "      <td>168</td>\n",
       "      <td>1</td>\n",
       "      <td>0</td>\n",
       "      <td>0</td>\n",
       "    </tr>\n",
       "    <tr>\n",
       "      <th>1</th>\n",
       "      <td>1</td>\n",
       "      <td>2</td>\n",
       "      <td>672</td>\n",
       "      <td>168</td>\n",
       "      <td>1</td>\n",
       "      <td>0</td>\n",
       "      <td>0</td>\n",
       "    </tr>\n",
       "    <tr>\n",
       "      <th>2</th>\n",
       "      <td>2</td>\n",
       "      <td>3</td>\n",
       "      <td>672</td>\n",
       "      <td>168</td>\n",
       "      <td>1</td>\n",
       "      <td>0</td>\n",
       "      <td>0</td>\n",
       "    </tr>\n",
       "    <tr>\n",
       "      <th>3</th>\n",
       "      <td>3</td>\n",
       "      <td>4</td>\n",
       "      <td>672</td>\n",
       "      <td>168</td>\n",
       "      <td>1</td>\n",
       "      <td>0</td>\n",
       "      <td>0</td>\n",
       "    </tr>\n",
       "    <tr>\n",
       "      <th>4</th>\n",
       "      <td>4</td>\n",
       "      <td>5</td>\n",
       "      <td>672</td>\n",
       "      <td>168</td>\n",
       "      <td>1</td>\n",
       "      <td>0</td>\n",
       "      <td>0</td>\n",
       "    </tr>\n",
       "    <tr>\n",
       "      <th>...</th>\n",
       "      <td>...</td>\n",
       "      <td>...</td>\n",
       "      <td>...</td>\n",
       "      <td>...</td>\n",
       "      <td>...</td>\n",
       "      <td>...</td>\n",
       "      <td>...</td>\n",
       "    </tr>\n",
       "    <tr>\n",
       "      <th>115</th>\n",
       "      <td>115</td>\n",
       "      <td>26</td>\n",
       "      <td>672</td>\n",
       "      <td>672</td>\n",
       "      <td>1</td>\n",
       "      <td>0</td>\n",
       "      <td>0</td>\n",
       "    </tr>\n",
       "    <tr>\n",
       "      <th>116</th>\n",
       "      <td>116</td>\n",
       "      <td>27</td>\n",
       "      <td>672</td>\n",
       "      <td>672</td>\n",
       "      <td>1</td>\n",
       "      <td>0</td>\n",
       "      <td>0</td>\n",
       "    </tr>\n",
       "    <tr>\n",
       "      <th>117</th>\n",
       "      <td>117</td>\n",
       "      <td>28</td>\n",
       "      <td>672</td>\n",
       "      <td>672</td>\n",
       "      <td>1</td>\n",
       "      <td>0</td>\n",
       "      <td>0</td>\n",
       "    </tr>\n",
       "    <tr>\n",
       "      <th>118</th>\n",
       "      <td>118</td>\n",
       "      <td>29</td>\n",
       "      <td>672</td>\n",
       "      <td>672</td>\n",
       "      <td>1</td>\n",
       "      <td>0</td>\n",
       "      <td>0</td>\n",
       "    </tr>\n",
       "    <tr>\n",
       "      <th>119</th>\n",
       "      <td>119</td>\n",
       "      <td>30</td>\n",
       "      <td>672</td>\n",
       "      <td>672</td>\n",
       "      <td>1</td>\n",
       "      <td>0</td>\n",
       "      <td>0</td>\n",
       "    </tr>\n",
       "  </tbody>\n",
       "</table>\n",
       "<p>120 rows × 7 columns</p>\n",
       "</div>"
      ],
      "text/plain": [
       "     Unnamed: 0  dataset  feature  hidden_neuron  hidden_layer  RMSE  MAPE\n",
       "0             0        1      672            168             1     0     0\n",
       "1             1        2      672            168             1     0     0\n",
       "2             2        3      672            168             1     0     0\n",
       "3             3        4      672            168             1     0     0\n",
       "4             4        5      672            168             1     0     0\n",
       "..          ...      ...      ...            ...           ...   ...   ...\n",
       "115         115       26      672            672             1     0     0\n",
       "116         116       27      672            672             1     0     0\n",
       "117         117       28      672            672             1     0     0\n",
       "118         118       29      672            672             1     0     0\n",
       "119         119       30      672            672             1     0     0\n",
       "\n",
       "[120 rows x 7 columns]"
      ]
     },
     "execution_count": 3,
     "metadata": {},
     "output_type": "execute_result"
    }
   ],
   "source": [
    "path = r'ANN_hidden_neuron.xlsx'\n",
    "df_par = pd.read_excel(path)\n",
    "\n",
    "# path = r'ANN_features.xlsx'\n",
    "# df_par = pd.read_excel(path)\n",
    "\n",
    "# path = r'LSTM_hidden_layer.xlsx'\n",
    "# df_par = pd.read_excel(path)\n",
    "df_par"
   ]
  },
  {
   "cell_type": "markdown",
   "metadata": {},
   "source": [
    "Nama file saat disimpan :"
   ]
  },
  {
   "cell_type": "code",
   "execution_count": 4,
   "metadata": {},
   "outputs": [
    {
     "data": {
      "text/html": [
       "<div>\n",
       "<style scoped>\n",
       "    .dataframe tbody tr th:only-of-type {\n",
       "        vertical-align: middle;\n",
       "    }\n",
       "\n",
       "    .dataframe tbody tr th {\n",
       "        vertical-align: top;\n",
       "    }\n",
       "\n",
       "    .dataframe thead th {\n",
       "        text-align: right;\n",
       "    }\n",
       "</style>\n",
       "<table border=\"1\" class=\"dataframe\">\n",
       "  <thead>\n",
       "    <tr style=\"text-align: right;\">\n",
       "      <th></th>\n",
       "      <th>variabel</th>\n",
       "    </tr>\n",
       "  </thead>\n",
       "  <tbody>\n",
       "    <tr>\n",
       "      <th>0</th>\n",
       "      <td>168</td>\n",
       "    </tr>\n",
       "    <tr>\n",
       "      <th>1</th>\n",
       "      <td>336</td>\n",
       "    </tr>\n",
       "    <tr>\n",
       "      <th>2</th>\n",
       "      <td>504</td>\n",
       "    </tr>\n",
       "    <tr>\n",
       "      <th>3</th>\n",
       "      <td>672</td>\n",
       "    </tr>\n",
       "  </tbody>\n",
       "</table>\n",
       "</div>"
      ],
      "text/plain": [
       "   variabel\n",
       "0       168\n",
       "1       336\n",
       "2       504\n",
       "3       672"
      ]
     },
     "execution_count": 4,
     "metadata": {},
     "output_type": "execute_result"
    }
   ],
   "source": [
    "algorithm_name = 'Revisi ANN'\n",
    "# parameter_name = 'feature'\n",
    "# parameter_name = 'hidden layer'\n",
    "parameter_name = 'hidden neuron'\n",
    "\n",
    "variabel_list = df_par.hidden_neuron.iloc[:]\n",
    "# variabel_list = df_par.feature.iloc[:]\n",
    "# variabel_list = df_par.hidden_layer.iloc[:]\n",
    "unique_variabel = Remove(variabel_list)\n",
    "variabel = pd.DataFrame(columns = ['variabel'])\n",
    "variabel.variabel = unique_variabel\n",
    "variabel"
   ]
  },
  {
   "cell_type": "code",
   "execution_count": 5,
   "metadata": {
    "scrolled": true
   },
   "outputs": [],
   "source": [
    "# Training & Save Model\n",
    "r = 1\n",
    "path = r'power_dataset.xlsx'\n",
    "data = pd.read_excel (path)\n",
    "batas_dataset = 60\n",
    "\n",
    "dataset = data.power.iloc[:-batas_dataset*24*7]\n",
    "dataset = pd.DataFrame(dataset)\n",
    "target_dum = data.power.iloc[-batas_dataset*24*7:-(batas_dataset-1)*24*7]\n",
    "target_dum = target_dum.reset_index(drop=True)\n",
    "\n",
    "# Normalize Dataset \n",
    "scaler = MinMaxScaler(feature_range=(0, 1))\n",
    "dataset = scaler.fit_transform(dataset)\n",
    "\n",
    "for d in range(len(variabel)) :\n",
    "    \n",
    "    print(\"Training Model {}/{}\\n\".format(r,len(variabel)))\n",
    "    r = r+1\n",
    "\n",
    "    in_steps = 1\n",
    "#     in_features = 168\n",
    "    in_features = 672\n",
    "    out_steps = 168\n",
    "    \n",
    "    train_x,train_y, _ = univariate_reshape(dataset,in_steps,in_features,out_steps,target_dum)\n",
    "    train_x = train_x.reshape(train_x.shape[0],train_x.shape[2])\n",
    "\n",
    "     ##### Parameter LSTM \n",
    "    verbose = 1\n",
    "    epochs = 500\n",
    "    batch_size = 50\n",
    "    neuron_layer_1 = variabel.variabel.iloc[d].tolist()\n",
    "    neuron_layer_2 = variabel.variabel.iloc[d].tolist()\n",
    "    neuron_layer_3 = variabel.variabel.iloc[d].tolist()\n",
    "    dropout_rate = 0.1\n",
    "\n",
    "#     print(\"Hidden Layer : {}\\n\".format(variabel.variabel.iloc[d]))\n",
    "    print(\"Hidden Layer : {}\\n\".format(df_par.hidden_layer.iloc[d]))\n",
    "\n",
    "    if df_par.hidden_layer.iloc[d] == 1:\n",
    "#     if variabel.variabel.iloc[d] == 1:\n",
    "        # Model ANN\n",
    "        model = Sequential()\n",
    "        model.add(Dense(neuron_layer_1, input_dim=in_features, activation='relu'))\n",
    "        model.add(Dropout(dropout_rate))\n",
    "        model.add(Dense(out_steps))\n",
    "    elif df_par.hidden_layer.iloc[d] == 2:\n",
    "#     elif variabel.variabel.iloc[d] == 2:\n",
    "        # Model ANN\n",
    "        model = Sequential()\n",
    "        model.add(Dense(neuron_layer_1, input_dim=in_features, activation='relu'))\n",
    "        model.add(Dense(neuron_layer_1, input_dim=in_features, activation='relu'))\n",
    "        model.add(Dropout(dropout_rate))\n",
    "        model.add(Dense(out_steps))\n",
    "    elif df_par.hidden_layer.iloc[d] == 3:\n",
    "#     elif variabel.variabel.iloc[d] == 3:\n",
    "        # Model ANN\n",
    "        model = Sequential()\n",
    "        model.add(Dense(neuron_layer_1, input_dim=in_features, activation='relu'))\n",
    "        model.add(Dense(neuron_layer_1, input_dim=in_features, activation='relu'))\n",
    "        model.add(Dense(neuron_layer_1, input_dim=in_features, activation='relu'))\n",
    "        model.add(Dropout(dropout_rate))\n",
    "        model.add(Dense(out_steps))\n",
    "\n",
    "    model.compile(loss='mse', optimizer='adam')\n",
    "    es = keras.callbacks.callbacks.EarlyStopping(monitor='val_loss', patience=10, verbose=1, mode='min',  restore_best_weights=True)\n",
    "    history = model.fit(train_x, train_y, validation_split=0.2, epochs=epochs, batch_size=batch_size, verbose=verbose, callbacks=[es])\n",
    "\n",
    "    # PLOT TRAIN and Validation LOSS\n",
    "    sns.set_style('white')\n",
    "    sns.set_context(\"paper\", font_scale=1.4)  \n",
    "    plt.figure(figsize=(16,4))\n",
    "    plt.plot(history.history['loss'], color='r', linewidth=1, marker='d', markersize=7, label='Train Loss')\n",
    "    plt.plot(history.history['val_loss'], color='b',linewidth=1, marker='*',markersize=6, label='Validation Loss')\n",
    "    plt.xlabel('Epochs')\n",
    "    plt.ylabel('Loss')\n",
    "    plt.title('Training and Validation loss')\n",
    "    legend = plt.legend(loc='upper right',prop={'size': 12})\n",
    "    plt.savefig('{} parameter {} model number {} - loss.png'.format(parameter_name, algorithm_name,d), dpi=500)\n",
    "\n",
    "    # serialize model to JSON\n",
    "    model_json = model.to_json()\n",
    "    with open(\"{} parameter {} model number {}.json\".format(parameter_name, algorithm_name,d), \"w\") as json_file:\n",
    "        json_file.write(model_json)\n",
    "\n",
    "    # serialize weights to HDF5\n",
    "    model.save_weights(\"{} parameter {} model number {}.h5\".format(parameter_name, algorithm_name,d))\n",
    "    \n",
    "    print(\"\")\n",
    "    print(\"Resetting Model..\")\n",
    "    model.reset_states()\n",
    "    \n",
    "    clear_output(wait=False)"
   ]
  },
  {
   "cell_type": "code",
   "execution_count": 6,
   "metadata": {},
   "outputs": [],
   "source": [
    "j = 0\n",
    "\n",
    "for i1 in range(len(variabel)) :\n",
    "    \n",
    "#     in_steps = variabel.variabel.iloc[i1]\n",
    "    in_steps = 1\n",
    "    in_features = 672\n",
    "#     in_features = 168\n",
    "\n",
    "    out_steps = 168\n",
    "    \n",
    "    json_file = open(\"{} parameter {} model number {}.json\".format(parameter_name, algorithm_name,i1), 'r')\n",
    "    loaded_model_json = json_file.read()\n",
    "    json_file.close()\n",
    "    model_lstm = model_from_json(loaded_model_json)\n",
    "\n",
    "    # load weights into new model\n",
    "    model_lstm.load_weights(\"{} parameter {} model number {}.h5\".format(parameter_name, algorithm_name,i1))\n",
    "    \n",
    "    simpan_aktual = []\n",
    "    simpan_prediksi = []\n",
    "    \n",
    "    for i2 in range(30):\n",
    "        \n",
    "        print(\"Testing Model {}/{}\\n\".format(j,len(df_par)))\n",
    "        \n",
    "        batas_bawah_target =  60 - i2\n",
    "        batas_atas_target = batas_bawah_target-1\n",
    "        target = data.power.iloc[-batas_bawah_target*24*7:-batas_atas_target*24*7]\n",
    "        target = target.reset_index(drop=True)\n",
    "        dataset_trg = data.power.iloc[:-batas_bawah_target*24*7]\n",
    "        dataset_trg = pd.DataFrame(dataset_trg)\n",
    "        \n",
    "        \n",
    "        # Normalize Dataset\n",
    "        scaler = MinMaxScaler(feature_range=(0, 1))\n",
    "        dataset_trg = scaler.fit_transform(dataset_trg)\n",
    "        _ , _ ,test_sample = univariate_reshape(dataset_trg,in_steps,in_features,out_steps,target)\n",
    "        test_sample = test_sample.reshape(test_sample.shape[0],test_sample.shape[2])\n",
    "\n",
    "        predict = model_lstm.predict(test_sample)\n",
    "        predict = scaler.inverse_transform(predict)\n",
    "        \n",
    "        simpan_aktual.append(target.values)\n",
    "        simpan_prediksi.append(predict[0])\n",
    "        \n",
    "        if i2 == 29 :\n",
    "            sp = np.array(simpan_prediksi)\n",
    "            sp = sp.flatten()\n",
    "            sa = np.array(simpan_aktual)\n",
    "            sa = sa.flatten()\n",
    "\n",
    "            simpan_total = pd.DataFrame(columns = ['Aktual','Prediksi'])\n",
    "            simpan_total.Aktual = sa\n",
    "            simpan_total.Prediksi = sp\n",
    "            \n",
    "            if i1+1 == 1 :\n",
    "                sv1 = simpan_total\n",
    "            if i1+1 == 2 :\n",
    "                sv2 = simpan_total\n",
    "            if i1+1 == 3 :\n",
    "                sv3 = simpan_total\n",
    "            if i1+1 == 4 :\n",
    "                sv4 = simpan_total\n",
    "            \n",
    "#             writer = ExcelWriter('{} {} actual dan prediksi {} .xlsx'.format(algorithm_name,parameter_name,i1))\n",
    "#             simpan_total.to_excel(writer,'Sheet1')\n",
    "#             writer.save()\n",
    "        \n",
    "        \n",
    "#         #DATA PREDICTION\n",
    "#         plt.figure(figsize=(16,5))\n",
    "#         plt.plot(predict[0], label = \"Prediction\")\n",
    "#         plt.plot(target, label = \"Actual Data\")\n",
    "#         plt.tick_params(left=False, labelleft=True) #remove ticks\n",
    "#         plt.tight_layout()\n",
    "#         sns.despine(top=True)\n",
    "#         plt.subplots_adjust(left=0.07)\n",
    "#         plt.xlabel('Time Index')\n",
    "#         plt.ylabel('Power Consumption')\n",
    "#         plt.legend(loc='upper right')\n",
    "#         plt.title('Prediction Plot')\n",
    "#         plt.savefig('{} parameter {} model number {} - Prediction Plot.png'.format(parameter_name, algorithm_name,j), dpi=500)\n",
    "\n",
    "        #Mengisi dataframe\n",
    "        df_par.RMSE.iloc[j] = np.sqrt(mean_squared_error(target,predict[0]))\n",
    "        df_par.MAPE.iloc[j] = mean_absolute_percentage_error(target,predict[0])\n",
    "        \n",
    "#         from pandas import ExcelWriter\n",
    "#         writer = ExcelWriter('{} {} Parameter Autosave Progress.xlsx'.format(algorithm_name,parameter_name))\n",
    "#         df_par.to_excel(writer,'Sheet1')\n",
    "#         writer.save()\n",
    "        \n",
    "        j = j+1\n",
    "        clear_output(wait=False)"
   ]
  },
  {
   "cell_type": "code",
   "execution_count": 7,
   "metadata": {},
   "outputs": [],
   "source": [
    "hn168 = df_par[df_par.hidden_neuron == 168].RMSE\n",
    "hn336 = df_par[df_par.hidden_neuron == 336].RMSE\n",
    "hn504 = df_par[df_par.hidden_neuron == 504].RMSE\n",
    "hn672 = df_par[df_par.hidden_neuron == 672].RMSE"
   ]
  },
  {
   "cell_type": "code",
   "execution_count": 8,
   "metadata": {},
   "outputs": [
    {
     "data": {
      "text/html": [
       "<div>\n",
       "<style scoped>\n",
       "    .dataframe tbody tr th:only-of-type {\n",
       "        vertical-align: middle;\n",
       "    }\n",
       "\n",
       "    .dataframe tbody tr th {\n",
       "        vertical-align: top;\n",
       "    }\n",
       "\n",
       "    .dataframe thead th {\n",
       "        text-align: right;\n",
       "    }\n",
       "</style>\n",
       "<table border=\"1\" class=\"dataframe\">\n",
       "  <thead>\n",
       "    <tr style=\"text-align: right;\">\n",
       "      <th></th>\n",
       "      <th>Unnamed: 0</th>\n",
       "      <th>dataset</th>\n",
       "      <th>feature</th>\n",
       "      <th>hidden_neuron</th>\n",
       "      <th>hidden_layer</th>\n",
       "      <th>RMSE</th>\n",
       "      <th>MAPE</th>\n",
       "    </tr>\n",
       "  </thead>\n",
       "  <tbody>\n",
       "    <tr>\n",
       "      <th>0</th>\n",
       "      <td>0</td>\n",
       "      <td>1</td>\n",
       "      <td>672</td>\n",
       "      <td>168</td>\n",
       "      <td>1</td>\n",
       "      <td>16.242342</td>\n",
       "      <td>6.033362</td>\n",
       "    </tr>\n",
       "    <tr>\n",
       "      <th>1</th>\n",
       "      <td>1</td>\n",
       "      <td>2</td>\n",
       "      <td>672</td>\n",
       "      <td>168</td>\n",
       "      <td>1</td>\n",
       "      <td>16.193481</td>\n",
       "      <td>5.773522</td>\n",
       "    </tr>\n",
       "    <tr>\n",
       "      <th>2</th>\n",
       "      <td>2</td>\n",
       "      <td>3</td>\n",
       "      <td>672</td>\n",
       "      <td>168</td>\n",
       "      <td>1</td>\n",
       "      <td>15.101318</td>\n",
       "      <td>5.320107</td>\n",
       "    </tr>\n",
       "    <tr>\n",
       "      <th>3</th>\n",
       "      <td>3</td>\n",
       "      <td>4</td>\n",
       "      <td>672</td>\n",
       "      <td>168</td>\n",
       "      <td>1</td>\n",
       "      <td>14.276040</td>\n",
       "      <td>4.853249</td>\n",
       "    </tr>\n",
       "    <tr>\n",
       "      <th>4</th>\n",
       "      <td>4</td>\n",
       "      <td>5</td>\n",
       "      <td>672</td>\n",
       "      <td>168</td>\n",
       "      <td>1</td>\n",
       "      <td>14.297043</td>\n",
       "      <td>5.435714</td>\n",
       "    </tr>\n",
       "    <tr>\n",
       "      <th>...</th>\n",
       "      <td>...</td>\n",
       "      <td>...</td>\n",
       "      <td>...</td>\n",
       "      <td>...</td>\n",
       "      <td>...</td>\n",
       "      <td>...</td>\n",
       "      <td>...</td>\n",
       "    </tr>\n",
       "    <tr>\n",
       "      <th>115</th>\n",
       "      <td>115</td>\n",
       "      <td>26</td>\n",
       "      <td>672</td>\n",
       "      <td>672</td>\n",
       "      <td>1</td>\n",
       "      <td>17.924159</td>\n",
       "      <td>6.481545</td>\n",
       "    </tr>\n",
       "    <tr>\n",
       "      <th>116</th>\n",
       "      <td>116</td>\n",
       "      <td>27</td>\n",
       "      <td>672</td>\n",
       "      <td>672</td>\n",
       "      <td>1</td>\n",
       "      <td>25.764573</td>\n",
       "      <td>9.490623</td>\n",
       "    </tr>\n",
       "    <tr>\n",
       "      <th>117</th>\n",
       "      <td>117</td>\n",
       "      <td>28</td>\n",
       "      <td>672</td>\n",
       "      <td>672</td>\n",
       "      <td>1</td>\n",
       "      <td>23.491543</td>\n",
       "      <td>8.188179</td>\n",
       "    </tr>\n",
       "    <tr>\n",
       "      <th>118</th>\n",
       "      <td>118</td>\n",
       "      <td>29</td>\n",
       "      <td>672</td>\n",
       "      <td>672</td>\n",
       "      <td>1</td>\n",
       "      <td>14.883700</td>\n",
       "      <td>5.180029</td>\n",
       "    </tr>\n",
       "    <tr>\n",
       "      <th>119</th>\n",
       "      <td>119</td>\n",
       "      <td>30</td>\n",
       "      <td>672</td>\n",
       "      <td>672</td>\n",
       "      <td>1</td>\n",
       "      <td>21.459261</td>\n",
       "      <td>7.766172</td>\n",
       "    </tr>\n",
       "  </tbody>\n",
       "</table>\n",
       "<p>120 rows × 7 columns</p>\n",
       "</div>"
      ],
      "text/plain": [
       "     Unnamed: 0  dataset  feature  hidden_neuron  hidden_layer       RMSE  \\\n",
       "0             0        1      672            168             1  16.242342   \n",
       "1             1        2      672            168             1  16.193481   \n",
       "2             2        3      672            168             1  15.101318   \n",
       "3             3        4      672            168             1  14.276040   \n",
       "4             4        5      672            168             1  14.297043   \n",
       "..          ...      ...      ...            ...           ...        ...   \n",
       "115         115       26      672            672             1  17.924159   \n",
       "116         116       27      672            672             1  25.764573   \n",
       "117         117       28      672            672             1  23.491543   \n",
       "118         118       29      672            672             1  14.883700   \n",
       "119         119       30      672            672             1  21.459261   \n",
       "\n",
       "         MAPE  \n",
       "0    6.033362  \n",
       "1    5.773522  \n",
       "2    5.320107  \n",
       "3    4.853249  \n",
       "4    5.435714  \n",
       "..        ...  \n",
       "115  6.481545  \n",
       "116  9.490623  \n",
       "117  8.188179  \n",
       "118  5.180029  \n",
       "119  7.766172  \n",
       "\n",
       "[120 rows x 7 columns]"
      ]
     },
     "execution_count": 8,
     "metadata": {},
     "output_type": "execute_result"
    }
   ],
   "source": [
    "df_par"
   ]
  },
  {
   "cell_type": "code",
   "execution_count": 9,
   "metadata": {},
   "outputs": [],
   "source": [
    "# writer = ExcelWriter('ANN_hidden_neuron_finish.xlsx')\n",
    "# df_par.to_excel(writer,'Sheet1')\n",
    "# writer.save()\n",
    "# print('complete')"
   ]
  },
  {
   "cell_type": "code",
   "execution_count": 10,
   "metadata": {
    "scrolled": true
   },
   "outputs": [
    {
     "data": {
      "text/plain": [
       "<matplotlib.axes._subplots.AxesSubplot at 0x25e3383ce08>"
      ]
     },
     "execution_count": 10,
     "metadata": {},
     "output_type": "execute_result"
    },
    {
     "data": {
      "text/plain": [
       "<Figure size 1152x288 with 0 Axes>"
      ]
     },
     "metadata": {},
     "output_type": "display_data"
    },
    {
     "data": {
      "image/png": "[encoded data removed]",
      "text/plain": [
       "<Figure size 432x288 with 1 Axes>"
      ]
     },
     "metadata": {
      "needs_background": "light"
     },
     "output_type": "display_data"
    }
   ],
   "source": [
    "plt.figure(figsize=(16,4))\n",
    "df_par.boxplot(by ='hidden_neuron', column =['RMSE'], grid = True) "
   ]
  },
  {
   "cell_type": "code",
   "execution_count": 11,
   "metadata": {},
   "outputs": [
    {
     "data": {
      "text/plain": [
       "17.697908963707864"
      ]
     },
     "execution_count": 11,
     "metadata": {},
     "output_type": "execute_result"
    }
   ],
   "source": [
    "hn168.mean()"
   ]
  },
  {
   "cell_type": "code",
   "execution_count": 12,
   "metadata": {},
   "outputs": [
    {
     "data": {
      "text/plain": [
       "14.569092681918354"
      ]
     },
     "execution_count": 12,
     "metadata": {},
     "output_type": "execute_result"
    }
   ],
   "source": [
    "hn336.mean()"
   ]
  },
  {
   "cell_type": "code",
   "execution_count": 13,
   "metadata": {},
   "outputs": [
    {
     "data": {
      "text/plain": [
       "15.66955843306724"
      ]
     },
     "execution_count": 13,
     "metadata": {},
     "output_type": "execute_result"
    }
   ],
   "source": [
    "hn504.mean()"
   ]
  },
  {
   "cell_type": "code",
   "execution_count": 14,
   "metadata": {},
   "outputs": [
    {
     "data": {
      "text/plain": [
       "16.938588602019763"
      ]
     },
     "execution_count": 14,
     "metadata": {},
     "output_type": "execute_result"
    }
   ],
   "source": [
    "hn672.mean()"
   ]
  },
  {
   "cell_type": "code",
   "execution_count": 15,
   "metadata": {},
   "outputs": [
    {
     "name": "stdout",
     "output_type": "stream",
     "text": [
      "Statistics=13.909, p=0.003\n",
      "Different distributions (reject H0)\n"
     ]
    }
   ],
   "source": [
    "#Uji Kruskal Wallis \n",
    "from scipy.stats import kruskal\n",
    "# compare samples\n",
    "stat, p = kruskal(hn168, hn336, hn504, hn672)\n",
    "print('Statistics=%.3f, p=%.3f' % (stat, p))\n",
    "# interpret\n",
    "alpha = 0.05\n",
    "if p > alpha:\n",
    "\tprint('Same distributions (fail to reject H0)')\n",
    "else:\n",
    "\tprint('Different distributions (reject H0)')"
   ]
  },
  {
   "cell_type": "code",
   "execution_count": 16,
   "metadata": {},
   "outputs": [
    {
     "data": {
      "text/html": [
       "<div>\n",
       "<style scoped>\n",
       "    .dataframe tbody tr th:only-of-type {\n",
       "        vertical-align: middle;\n",
       "    }\n",
       "\n",
       "    .dataframe tbody tr th {\n",
       "        vertical-align: top;\n",
       "    }\n",
       "\n",
       "    .dataframe thead th {\n",
       "        text-align: right;\n",
       "    }\n",
       "</style>\n",
       "<table border=\"1\" class=\"dataframe\">\n",
       "  <thead>\n",
       "    <tr style=\"text-align: right;\">\n",
       "      <th></th>\n",
       "      <th>1</th>\n",
       "      <th>2</th>\n",
       "      <th>3</th>\n",
       "      <th>4</th>\n",
       "    </tr>\n",
       "  </thead>\n",
       "  <tbody>\n",
       "    <tr>\n",
       "      <th>1</th>\n",
       "      <td>-1.000000</td>\n",
       "      <td>0.002170</td>\n",
       "      <td>0.157671</td>\n",
       "      <td>0.600903</td>\n",
       "    </tr>\n",
       "    <tr>\n",
       "      <th>2</th>\n",
       "      <td>0.002170</td>\n",
       "      <td>-1.000000</td>\n",
       "      <td>0.395580</td>\n",
       "      <td>0.055067</td>\n",
       "    </tr>\n",
       "    <tr>\n",
       "      <th>3</th>\n",
       "      <td>0.157671</td>\n",
       "      <td>0.395580</td>\n",
       "      <td>-1.000000</td>\n",
       "      <td>0.600903</td>\n",
       "    </tr>\n",
       "    <tr>\n",
       "      <th>4</th>\n",
       "      <td>0.600903</td>\n",
       "      <td>0.055067</td>\n",
       "      <td>0.600903</td>\n",
       "      <td>-1.000000</td>\n",
       "    </tr>\n",
       "  </tbody>\n",
       "</table>\n",
       "</div>"
      ],
      "text/plain": [
       "          1         2         3         4\n",
       "1 -1.000000  0.002170  0.157671  0.600903\n",
       "2  0.002170 -1.000000  0.395580  0.055067\n",
       "3  0.157671  0.395580 -1.000000  0.600903\n",
       "4  0.600903  0.055067  0.600903 -1.000000"
      ]
     },
     "execution_count": 16,
     "metadata": {},
     "output_type": "execute_result"
    }
   ],
   "source": [
    "import scikit_posthocs\n",
    "from scikit_posthocs import posthoc_dunn\n",
    "posthoc_dunn([hn168, hn336, hn504, hn672],p_adjust='holm')"
   ]
  },
  {
   "cell_type": "code",
   "execution_count": 23,
   "metadata": {},
   "outputs": [
    {
     "data": {
      "text/html": [
       "<div>\n",
       "<style scoped>\n",
       "    .dataframe tbody tr th:only-of-type {\n",
       "        vertical-align: middle;\n",
       "    }\n",
       "\n",
       "    .dataframe tbody tr th {\n",
       "        vertical-align: top;\n",
       "    }\n",
       "\n",
       "    .dataframe thead th {\n",
       "        text-align: right;\n",
       "    }\n",
       "</style>\n",
       "<table border=\"1\" class=\"dataframe\">\n",
       "  <thead>\n",
       "    <tr style=\"text-align: right;\">\n",
       "      <th></th>\n",
       "      <th>Unnamed: 0</th>\n",
       "      <th>Unnamed: 0.1</th>\n",
       "      <th>dataset</th>\n",
       "      <th>feature</th>\n",
       "      <th>hidden_neuron</th>\n",
       "      <th>hidden_layer</th>\n",
       "      <th>RMSE</th>\n",
       "      <th>MAPE</th>\n",
       "    </tr>\n",
       "  </thead>\n",
       "  <tbody>\n",
       "    <tr>\n",
       "      <th>0</th>\n",
       "      <td>0</td>\n",
       "      <td>0</td>\n",
       "      <td>1</td>\n",
       "      <td>672</td>\n",
       "      <td>168</td>\n",
       "      <td>1</td>\n",
       "      <td>16.242342</td>\n",
       "      <td>6.033362</td>\n",
       "    </tr>\n",
       "    <tr>\n",
       "      <th>1</th>\n",
       "      <td>1</td>\n",
       "      <td>1</td>\n",
       "      <td>2</td>\n",
       "      <td>672</td>\n",
       "      <td>168</td>\n",
       "      <td>1</td>\n",
       "      <td>16.193481</td>\n",
       "      <td>5.773522</td>\n",
       "    </tr>\n",
       "    <tr>\n",
       "      <th>2</th>\n",
       "      <td>2</td>\n",
       "      <td>2</td>\n",
       "      <td>3</td>\n",
       "      <td>672</td>\n",
       "      <td>168</td>\n",
       "      <td>1</td>\n",
       "      <td>15.101318</td>\n",
       "      <td>5.320107</td>\n",
       "    </tr>\n",
       "    <tr>\n",
       "      <th>3</th>\n",
       "      <td>3</td>\n",
       "      <td>3</td>\n",
       "      <td>4</td>\n",
       "      <td>672</td>\n",
       "      <td>168</td>\n",
       "      <td>1</td>\n",
       "      <td>14.276040</td>\n",
       "      <td>4.853249</td>\n",
       "    </tr>\n",
       "    <tr>\n",
       "      <th>4</th>\n",
       "      <td>4</td>\n",
       "      <td>4</td>\n",
       "      <td>5</td>\n",
       "      <td>672</td>\n",
       "      <td>168</td>\n",
       "      <td>1</td>\n",
       "      <td>14.297043</td>\n",
       "      <td>5.435714</td>\n",
       "    </tr>\n",
       "    <tr>\n",
       "      <th>...</th>\n",
       "      <td>...</td>\n",
       "      <td>...</td>\n",
       "      <td>...</td>\n",
       "      <td>...</td>\n",
       "      <td>...</td>\n",
       "      <td>...</td>\n",
       "      <td>...</td>\n",
       "      <td>...</td>\n",
       "    </tr>\n",
       "    <tr>\n",
       "      <th>115</th>\n",
       "      <td>115</td>\n",
       "      <td>115</td>\n",
       "      <td>26</td>\n",
       "      <td>672</td>\n",
       "      <td>672</td>\n",
       "      <td>1</td>\n",
       "      <td>17.924159</td>\n",
       "      <td>6.481545</td>\n",
       "    </tr>\n",
       "    <tr>\n",
       "      <th>116</th>\n",
       "      <td>116</td>\n",
       "      <td>116</td>\n",
       "      <td>27</td>\n",
       "      <td>672</td>\n",
       "      <td>672</td>\n",
       "      <td>1</td>\n",
       "      <td>25.764573</td>\n",
       "      <td>9.490623</td>\n",
       "    </tr>\n",
       "    <tr>\n",
       "      <th>117</th>\n",
       "      <td>117</td>\n",
       "      <td>117</td>\n",
       "      <td>28</td>\n",
       "      <td>672</td>\n",
       "      <td>672</td>\n",
       "      <td>1</td>\n",
       "      <td>23.491543</td>\n",
       "      <td>8.188179</td>\n",
       "    </tr>\n",
       "    <tr>\n",
       "      <th>118</th>\n",
       "      <td>118</td>\n",
       "      <td>118</td>\n",
       "      <td>29</td>\n",
       "      <td>672</td>\n",
       "      <td>672</td>\n",
       "      <td>1</td>\n",
       "      <td>14.883700</td>\n",
       "      <td>5.180029</td>\n",
       "    </tr>\n",
       "    <tr>\n",
       "      <th>119</th>\n",
       "      <td>119</td>\n",
       "      <td>119</td>\n",
       "      <td>30</td>\n",
       "      <td>672</td>\n",
       "      <td>672</td>\n",
       "      <td>1</td>\n",
       "      <td>21.459261</td>\n",
       "      <td>7.766172</td>\n",
       "    </tr>\n",
       "  </tbody>\n",
       "</table>\n",
       "<p>120 rows × 8 columns</p>\n",
       "</div>"
      ],
      "text/plain": [
       "     Unnamed: 0  Unnamed: 0.1  dataset  feature  hidden_neuron  hidden_layer  \\\n",
       "0             0             0        1      672            168             1   \n",
       "1             1             1        2      672            168             1   \n",
       "2             2             2        3      672            168             1   \n",
       "3             3             3        4      672            168             1   \n",
       "4             4             4        5      672            168             1   \n",
       "..          ...           ...      ...      ...            ...           ...   \n",
       "115         115           115       26      672            672             1   \n",
       "116         116           116       27      672            672             1   \n",
       "117         117           117       28      672            672             1   \n",
       "118         118           118       29      672            672             1   \n",
       "119         119           119       30      672            672             1   \n",
       "\n",
       "          RMSE      MAPE  \n",
       "0    16.242342  6.033362  \n",
       "1    16.193481  5.773522  \n",
       "2    15.101318  5.320107  \n",
       "3    14.276040  4.853249  \n",
       "4    14.297043  5.435714  \n",
       "..         ...       ...  \n",
       "115  17.924159  6.481545  \n",
       "116  25.764573  9.490623  \n",
       "117  23.491543  8.188179  \n",
       "118  14.883700  5.180029  \n",
       "119  21.459261  7.766172  \n",
       "\n",
       "[120 rows x 8 columns]"
      ]
     },
     "execution_count": 23,
     "metadata": {},
     "output_type": "execute_result"
    }
   ],
   "source": [
    "path = r'ANN_hidden_neuron_finish.xlsx'\n",
    "data = pd.read_excel (path)\n",
    "data"
   ]
  },
  {
   "cell_type": "code",
   "execution_count": 24,
   "metadata": {},
   "outputs": [
    {
     "data": {
      "text/plain": [
       "Text(0, 0.5, 'RMSE (MW)')"
      ]
     },
     "execution_count": 24,
     "metadata": {},
     "output_type": "execute_result"
    },
    {
     "data": {
      "image/png": "[encoded data removed]",
      "text/plain": [
       "<Figure size 576x288 with 1 Axes>"
      ]
     },
     "metadata": {
      "needs_background": "light"
     },
     "output_type": "display_data"
    }
   ],
   "source": [
    "x1 = data[data.hidden_neuron==168].RMSE.mean()\n",
    "x2 = data[data.hidden_neuron==336].RMSE.mean()\n",
    "x3 = data[data.hidden_neuron==504].RMSE.mean()\n",
    "x4 =data[data.hidden_neuron==672].RMSE.mean()\n",
    "\n",
    "plt.figure(figsize=(8,4))\n",
    "plt.plot([x1, x2, x3, x4])\n",
    "plt.scatter('168',x1,color= 'red')\n",
    "plt.scatter('336',x2,color= 'red')\n",
    "plt.scatter('504',x3,color= 'red')\n",
    "plt.scatter('672',x4,color= 'red')\n",
    "plt.title('Mean')\n",
    "plt.xlabel('hidden neuron')\n",
    "plt.ylabel('RMSE (MW)')"
   ]
  },
  {
   "cell_type": "code",
   "execution_count": 25,
   "metadata": {},
   "outputs": [
    {
     "data": {
      "text/plain": [
       "Text(0, 0.5, 'RMSE (MW)')"
      ]
     },
     "execution_count": 25,
     "metadata": {},
     "output_type": "execute_result"
    },
    {
     "data": {
      "image/png": "[encoded data removed]",
      "text/plain": [
       "<Figure size 576x288 with 1 Axes>"
      ]
     },
     "metadata": {
      "needs_background": "light"
     },
     "output_type": "display_data"
    }
   ],
   "source": [
    "s1 = data[data.hidden_neuron==168].RMSE.std()\n",
    "s2 = data[data.hidden_neuron==336].RMSE.std()\n",
    "s3 = data[data.hidden_neuron==504].RMSE.std()\n",
    "s4 =data[data.hidden_neuron==672].RMSE.std()\n",
    "\n",
    "plt.figure(figsize=(8,4))\n",
    "plt.plot([s1, s2, s3, s4],color='orange')\n",
    "plt.scatter('168',s1,color= 'black')\n",
    "plt.scatter('336',s2,color= 'black')\n",
    "plt.scatter('504',s3,color= 'black')\n",
    "plt.scatter('672',s4,color= 'black')\n",
    "plt.title('Standard Deviation')\n",
    "plt.xlabel('hidden neuron')\n",
    "plt.ylabel('RMSE (MW)')"
   ]
  },
  {
   "cell_type": "code",
   "execution_count": 27,
   "metadata": {},
   "outputs": [
    {
     "name": "stdout",
     "output_type": "stream",
     "text": [
      "dm_return(DM=-7.824473887078488, p_value=6.1674033507820114e-15)\n",
      "dm_return(DM=-5.1220348156033335, p_value=3.1351998493032367e-07)\n",
      "dm_return(DM=-6.227098664098948, p_value=5.137033131375605e-10)\n"
     ]
    }
   ],
   "source": [
    "from dm_test import dm_test\n",
    "a = 0;b=5040\n",
    "nilai_h = int(round((np.cbrt(b-a)),0))\n",
    "\n",
    "rt01 = dm_test(sv1.Aktual.iloc[a:b],sv2.Prediksi.iloc[a:b],sv1.Prediksi.iloc[a:b],h = nilai_h, crit=\"MSE\")\n",
    "rt02 = dm_test(sv1.Aktual.iloc[a:b],sv2.Prediksi.iloc[a:b],sv3.Prediksi.iloc[a:b],h = nilai_h, crit=\"MSE\")\n",
    "rt03 = dm_test(sv1.Aktual.iloc[a:b],sv2.Prediksi.iloc[a:b],sv4.Prediksi.iloc[a:b],h = nilai_h, crit=\"MSE\")\n",
    "\n",
    "print(rt01)\n",
    "print(rt02)\n",
    "print(rt03)\n"
   ]
  }
 ],
 "metadata": {
  "kernelspec": {
   "display_name": "Python 3",
   "language": "python",
   "name": "python3"
  },
  "language_info": {
   "codemirror_mode": {
    "name": "ipython",
    "version": 3
   },
   "file_extension": ".py",
   "mimetype": "text/x-python",
   "name": "python",
   "nbconvert_exporter": "python",
   "pygments_lexer": "ipython3",
   "version": "3.7.6"
  }
 },
 "nbformat": 4,
 "nbformat_minor": 2
}
