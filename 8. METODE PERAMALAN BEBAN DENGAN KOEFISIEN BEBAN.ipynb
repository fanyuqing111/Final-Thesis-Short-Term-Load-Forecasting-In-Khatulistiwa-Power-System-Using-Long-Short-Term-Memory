{
 "cells": [
  {
   "cell_type": "code",
   "execution_count": 32,
   "metadata": {},
   "outputs": [],
   "source": [
    "import pandas as pd\n",
    "import numpy as np\n",
    "import matplotlib.pyplot as plt"
   ]
  },
  {
   "cell_type": "code",
   "execution_count": 33,
   "metadata": {},
   "outputs": [],
   "source": [
    "def LCF(dataset,load_day,load_hour) :\n",
    "    \n",
    "    #Mengumpulkan Beban pada Hari yang dituju\n",
    "    target_day = dataset[dataset.DayNumber == load_day]\n",
    "    target_day = target_day.reset_index(drop=True)\n",
    "\n",
    "    day_count = len(target_day) / 24\n",
    "#     print(\"Jumlah hari : {}\".format(day_count))\n",
    "\n",
    "    #Beban Hari target pada Jam target \n",
    "    day_target_hour = target_day[target_day.datetime.apply(lambda x: x.hour) == load_hour]\n",
    "    day_target_hour = day_target_hour.reset_index(drop=True)\n",
    "    day_target_hour = day_target_hour.power\n",
    "\n",
    "    #Beban Maksimal pada hari setiap tanggalnya\n",
    "    day_max = []\n",
    "    for i in range(1,len(day_target_hour)+1):\n",
    "        v1 = target_day[target_day.WeekNumber == i]\n",
    "        v2 = max(v1.power)\n",
    "        day_max.append(v2)\n",
    "\n",
    "    #Prediksi dengan Menggunakan Metode Koefisien Beban : \n",
    "    #Mengihtung Alfa\n",
    "    sum_alfa = 0\n",
    "    sum_beta = 0\n",
    "    for i in range(len(day_target_hour)):\n",
    "        temp1 = day_target_hour[i]/day_max[i]\n",
    "        sum_alfa = sum_alfa + temp1\n",
    "\n",
    "        if i>= 1:\n",
    "            temp2 = day_target_hour[i]\n",
    "            temp3 = day_target_hour[i-1]\n",
    "            sum_beta = sum_beta + (temp3/temp2) \n",
    "\n",
    "    alfa = sum_alfa / len(day_target_hour)\n",
    "    beta = sum_beta / (len(day_target_hour)-1)\n",
    "    hasil_prediksi = alfa*beta*day_max[-1]\n",
    "    return hasil_prediksi"
   ]
  },
  {
   "cell_type": "code",
   "execution_count": 34,
   "metadata": {},
   "outputs": [
    {
     "data": {
      "text/html": [
       "<div>\n",
       "<style scoped>\n",
       "    .dataframe tbody tr th:only-of-type {\n",
       "        vertical-align: middle;\n",
       "    }\n",
       "\n",
       "    .dataframe tbody tr th {\n",
       "        vertical-align: top;\n",
       "    }\n",
       "\n",
       "    .dataframe thead th {\n",
       "        text-align: right;\n",
       "    }\n",
       "</style>\n",
       "<table border=\"1\" class=\"dataframe\">\n",
       "  <thead>\n",
       "    <tr style=\"text-align: right;\">\n",
       "      <th></th>\n",
       "      <th>Unnamed: 0</th>\n",
       "      <th>datetime</th>\n",
       "      <th>power</th>\n",
       "      <th>year</th>\n",
       "      <th>quarter</th>\n",
       "      <th>month</th>\n",
       "      <th>day</th>\n",
       "      <th>weekday</th>\n",
       "      <th>DayNumber</th>\n",
       "      <th>National_Holiday</th>\n",
       "      <th>WeekNumber</th>\n",
       "    </tr>\n",
       "  </thead>\n",
       "  <tbody>\n",
       "    <tr>\n",
       "      <th>0</th>\n",
       "      <td>0</td>\n",
       "      <td>2016-01-04</td>\n",
       "      <td>164.514335</td>\n",
       "      <td>2016</td>\n",
       "      <td>1</td>\n",
       "      <td>1</td>\n",
       "      <td>4</td>\n",
       "      <td>1</td>\n",
       "      <td>0</td>\n",
       "      <td>0.0</td>\n",
       "      <td>1</td>\n",
       "    </tr>\n",
       "  </tbody>\n",
       "</table>\n",
       "</div>"
      ],
      "text/plain": [
       "   Unnamed: 0   datetime       power  year  quarter  month  day  weekday  \\\n",
       "0           0 2016-01-04  164.514335  2016        1      1    4        1   \n",
       "\n",
       "   DayNumber  National_Holiday  WeekNumber  \n",
       "0          0               0.0           1  "
      ]
     },
     "execution_count": 34,
     "metadata": {},
     "output_type": "execute_result"
    }
   ],
   "source": [
    "path = r'full_power_dataset_tanpa_libur.xlsx'\n",
    "df = pd.read_excel (path)\n",
    "df.head(1)"
   ]
  },
  {
   "cell_type": "code",
   "execution_count": 35,
   "metadata": {},
   "outputs": [],
   "source": [
    "data_target = df.iloc[-30*168:]\n",
    "data_target = data_target.reset_index(drop=True)\n",
    "dataset = df.iloc[:-30*168]"
   ]
  },
  {
   "cell_type": "code",
   "execution_count": 36,
   "metadata": {},
   "outputs": [
    {
     "name": "stdout",
     "output_type": "stream",
     "text": [
      "0\n",
      "1\n",
      "2\n",
      "3\n",
      "4\n",
      "5\n",
      "6\n",
      "7\n",
      "8\n",
      "9\n",
      "10\n",
      "11\n",
      "12\n",
      "13\n",
      "14\n",
      "15\n",
      "16\n",
      "17\n",
      "18\n",
      "19\n",
      "20\n",
      "21\n",
      "22\n",
      "23\n",
      "24\n",
      "25\n",
      "26\n",
      "27\n",
      "28\n",
      "29\n"
     ]
    }
   ],
   "source": [
    "#Prediksi 1 Minggu pada Dataset Uji\n",
    "prediction = []\n",
    "for i0 in range(30):\n",
    "    print(i0)\n",
    "    dataset = df.iloc[:-(30-i0)*168]\n",
    "    hasil_peramalan_per_dataset = []\n",
    "    for i1 in range(7):\n",
    "        for i2 in range(24):\n",
    "            koef_beban = LCF(dataset,i1,i2)\n",
    "            hasil_peramalan_per_dataset.append(koef_beban)\n",
    "    prediction.append(hasil_peramalan_per_dataset)"
   ]
  },
  {
   "cell_type": "code",
   "execution_count": 38,
   "metadata": {},
   "outputs": [
    {
     "data": {
      "text/plain": [
       "30"
      ]
     },
     "execution_count": 38,
     "metadata": {},
     "output_type": "execute_result"
    }
   ],
   "source": [
    "len(prediction)"
   ]
  },
  {
   "cell_type": "code",
   "execution_count": null,
   "metadata": {},
   "outputs": [],
   "source": []
  }
 ],
 "metadata": {
  "kernelspec": {
   "display_name": "Python 3",
   "language": "python",
   "name": "python3"
  },
  "language_info": {
   "codemirror_mode": {
    "name": "ipython",
    "version": 3
   },
   "file_extension": ".py",
   "mimetype": "text/x-python",
   "name": "python",
   "nbconvert_exporter": "python",
   "pygments_lexer": "ipython3",
   "version": "3.7.6"
  }
 },
 "nbformat": 4,
 "nbformat_minor": 2
}
